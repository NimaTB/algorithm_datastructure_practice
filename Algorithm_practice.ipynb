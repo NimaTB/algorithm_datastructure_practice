{
  "nbformat": 4,
  "nbformat_minor": 0,
  "metadata": {
    "colab": {
      "provenance": [],
      "toc_visible": true,
      "authorship_tag": "ABX9TyPlb6Yvud84nLLaDNOGs0Hd",
      "include_colab_link": true
    },
    "kernelspec": {
      "name": "python3",
      "display_name": "Python 3"
    },
    "language_info": {
      "name": "python"
    }
  },
  "cells": [
    {
      "cell_type": "markdown",
      "metadata": {
        "id": "view-in-github",
        "colab_type": "text"
      },
      "source": [
        "<a href=\"https://colab.research.google.com/github/NimaTB/algorithm_datastructure_practice/blob/main/Algorithm_practice.ipynb\" target=\"_parent\"><img src=\"https://colab.research.google.com/assets/colab-badge.svg\" alt=\"Open In Colab\"/></a>"
      ]
    },
    {
      "cell_type": "markdown",
      "source": [
        "**This is my initial attempt to learn Algorithm!**"
      ],
      "metadata": {
        "id": "FPI6gxWwpOFS"
      }
    },
    {
      "cell_type": "markdown",
      "source": [
        "Importing libraries\n",
        "\n"
      ],
      "metadata": {
        "id": "H0HC5L64pvei"
      }
    },
    {
      "cell_type": "code",
      "source": [
        "import numpy as np"
      ],
      "metadata": {
        "id": "snMwKDf3rIQd"
      },
      "execution_count": null,
      "outputs": []
    },
    {
      "cell_type": "markdown",
      "source": [
        "Below is the code for linear search"
      ],
      "metadata": {
        "id": "OgSoHdTFrJti"
      }
    },
    {
      "cell_type": "code",
      "source": [
        "def linear_search(numbers: list,\n",
        "                  target: int):\n",
        "    \"\"\"\n",
        "    #(it is a docstring)\n",
        "    Returns the index position of the target if found, else returns None.\n",
        "    Inputs:\n",
        "    numbers\n",
        "    target\n",
        "    Returns:\n",
        "    i (index position)\n",
        "    \"\"\"\n",
        "    for i in range(0, len(numbers)): # It's a constant runtime function\n",
        "      if numbers[i] == target: # It's linear runtime function\n",
        "        return i\n",
        "    return None\n",
        "\n",
        "def verify(index):\n",
        "  if index is not None:\n",
        "    print(\"Target found at indext:\", index)\n",
        "  else:\n",
        "    print(\"Target not found in the list\")"
      ],
      "metadata": {
        "id": "j2SikCCLpNdC"
      },
      "execution_count": null,
      "outputs": []
    },
    {
      "cell_type": "code",
      "source": [
        "def binary_search(numbers: list,\n",
        "                  target: int):\n",
        "    \"\"\"\n",
        "    #(it is a docstring)\n",
        "    Returns the index position of the target if found, else returns None.\n",
        "    Inputs:\n",
        "    numbers\n",
        "    target\n",
        "    Returns:\n",
        "    i (index position)\n",
        "    \"\"\"\n",
        "    first = 0\n",
        "    last = len(numbers) - 1 \n",
        "\n",
        "    while first <= last: \n",
        "      midpoint = (first + last)//2 #floor devision \n",
        "      if numbers[midpoint] == target:\n",
        "        return midpoint\n",
        "      elif numbers[midpoint] < target:\n",
        "        first = midpoint + 1 \n",
        "      else:\n",
        "        last = midpoint - 1\n",
        "    return None\n",
        "        "
      ],
      "metadata": {
        "id": "l2rq2fmCuGSt"
      },
      "execution_count": null,
      "outputs": []
    },
    {
      "cell_type": "code",
      "source": [
        "def recursive_binary_search(numbers: list,\n",
        "                            target: int):\n",
        "    \"\"\"\n",
        "    #(it is a docstring)\n",
        "    Returns the index position of the target if found, else returns None.\n",
        "    Inputs:\n",
        "    numbers\n",
        "    target\n",
        "    Returns:\n",
        "    i (index position)\n",
        "    \"\"\"\n",
        "    if len(numbers) == 0:\n",
        "      return False\n",
        "    else:\n",
        "      midpoint = (len(numbers))//2\n",
        "      if numbers[midpoint] == target:\n",
        "        return True\n",
        "      else:\n",
        "        if numbers[midpoint] < target: #Slice operation\n",
        "          return recursive_binary_search(numbers[midpoint + 1:], target)\n",
        "        else:\n",
        "          return recursive_binary_search(numbers[:midpoint], target)"
      ],
      "metadata": {
        "id": "vGLLZrXwyxe0"
      },
      "execution_count": null,
      "outputs": []
    },
    {
      "cell_type": "code",
      "source": [
        "numbers = np.arange(0,10).tolist()\n",
        "target = 6"
      ],
      "metadata": {
        "id": "4ZHxsCjOsb9D"
      },
      "execution_count": null,
      "outputs": []
    },
    {
      "cell_type": "code",
      "source": [
        "result_linear = linear_search(numbers, target)\n",
        "result_binary = binary_search(numbers, target)\n",
        "result_rec_binary = recursive_binary_search(numbers, target)"
      ],
      "metadata": {
        "id": "3CZhGX9FtGH-"
      },
      "execution_count": null,
      "outputs": []
    },
    {
      "cell_type": "code",
      "source": [
        "verify(result_linear)\n",
        "verify(result_binary)\n",
        "verify(result_rec_binary)"
      ],
      "metadata": {
        "colab": {
          "base_uri": "https://localhost:8080/"
        },
        "id": "gYAwhhAoto19",
        "outputId": "c631f690-dcfd-4e5b-ddea-b5482b923c32"
      },
      "execution_count": null,
      "outputs": [
        {
          "output_type": "stream",
          "name": "stdout",
          "text": [
            "Target found at indext: 6\n",
            "Target found at indext: 6\n",
            "Target found at indext: True\n"
          ]
        }
      ]
    }
  ]
}